{
 "cells": [
  {
   "cell_type": "code",
   "execution_count": 2,
   "metadata": {},
   "outputs": [
    {
     "name": "stdout",
     "output_type": "stream",
     "text": [
      "Requirement already satisfied: selenium in c:\\users\\user\\anaconda3\\lib\\site-packages (3.141.0)\n",
      "Requirement already satisfied: urllib3 in c:\\users\\user\\anaconda3\\lib\\site-packages (from selenium) (1.24.2)\n",
      "Note: you may need to restart the kernel to use updated packages.\n"
     ]
    }
   ],
   "source": [
    "pip install selenium"
   ]
  },
  {
   "cell_type": "code",
   "execution_count": 7,
   "metadata": {},
   "outputs": [],
   "source": [
    "# import selenium, time & urllib modules\n",
    "from selenium import webdriver\n",
    "import time, urllib.request "
   ]
  },
  {
   "cell_type": "code",
   "execution_count": 11,
   "metadata": {},
   "outputs": [],
   "source": [
    "driver = webdriver.Chrome()\n",
    "driver.get(\"https://www.instagram.com/Quarterlifepoetry/\")"
   ]
  },
  {
   "cell_type": "code",
   "execution_count": 12,
   "metadata": {},
   "outputs": [],
   "source": [
    "# scroll to the bottom of the page\n",
    "lenOfPage = driver.execute_script(\"window.scrollTo(0, document.body.scrollHeight);var lenOfPage=document.body.scrollHeight;return lenOfPage;\")\n",
    "match=False\n",
    "while(match==False):\n",
    "    lastCount = lenOfPage\n",
    "    time.sleep(3)\n",
    "    lenOfPage = driver.execute_script(\"window.scrollTo(0, document.body.scrollHeight);var lenOfPage=document.body.scrollHeight;return lenOfPage;\")\n",
    "    if lastCount==lenOfPage:\n",
    "        match=True"
   ]
  },
  {
   "cell_type": "code",
   "execution_count": 13,
   "metadata": {},
   "outputs": [
    {
     "name": "stdout",
     "output_type": "stream",
     "text": [
      "['https://www.instagram.com/p/0VUEfeOrWO/', 'https://www.instagram.com/p/0TAO4rurUl/', 'https://www.instagram.com/p/0LSZpIurZb/', 'https://www.instagram.com/p/0IqTyXurVB/', 'https://www.instagram.com/p/0GHq5hurWn/', 'https://www.instagram.com/p/0BN_KMOrV1/', 'https://www.instagram.com/p/z5LuAPOrcv/', 'https://www.instagram.com/p/z23o8kuraq/', 'https://www.instagram.com/p/zz44Z6urRo/', 'https://www.instagram.com/p/zx0Sswurdl/', 'https://www.instagram.com/p/zvGM8RurQG/', 'https://www.instagram.com/p/zsgskxOrfN/', 'https://www.instagram.com/p/zpwzF_urVV/', 'https://www.instagram.com/p/zknnRNurRb/', 'https://www.instagram.com/p/zfeIZHurT1/', 'https://www.instagram.com/p/zdBLz_urVm/', 'https://www.instagram.com/p/zagVl8urbH/', 'https://www.instagram.com/p/zXyQyvOrS9/', 'https://www.instagram.com/p/zVKnIxOrRI/', 'https://www.instagram.com/p/zSdlOcurcc/', 'https://www.instagram.com/p/zQ8xRLurRg/', 'https://www.instagram.com/p/zQkJQrOrZH/', 'https://www.instagram.com/p/yNSzHvOrab/', 'https://www.instagram.com/p/yLVQCuurc4/', 'https://www.instagram.com/p/yLO6fSurRH/', 'https://www.instagram.com/p/yLOwgNOrQ4/', 'https://www.instagram.com/p/yLOsNsurQu/', 'https://www.instagram.com/p/yLM79COrdD/', 'https://www.instagram.com/p/yLM1frOrcv/']\n"
     ]
    }
   ],
   "source": [
    "# find all links on the page and if they match '/p' append to list named posts\n",
    "posts = []\n",
    "links = driver.find_elements_by_tag_name('a')\n",
    "for link in links:\n",
    "    post = link.get_attribute('href')\n",
    "    if '/p/' in post:\n",
    "        posts.append( post )\n",
    "        \n",
    "print(posts)"
   ]
  },
  {
   "cell_type": "code",
   "execution_count": 16,
   "metadata": {},
   "outputs": [
    {
     "name": "stdout",
     "output_type": "stream",
     "text": [
      "Done\n"
     ]
    }
   ],
   "source": [
    "# Download all of images and video\n",
    "\n",
    "download_url = ''\n",
    "for post in posts:\n",
    "    driver.get(post)\n",
    "    shortcode = driver.current_url.split(\"/\")[-2]\n",
    "    type = driver.find_element_by_xpath('//meta[@property=\"og:type\"]').get_attribute('content')\n",
    "    if type == 'video':\n",
    "        download_url = driver.find_element_by_xpath(\"//meta[@property='og:video']\").get_attribute('content')\n",
    "        urllib.request.urlretrieve(download_url, '{}.mp4'.format( shortcode ))\n",
    "    else:\n",
    "        download_url = driver.find_element_by_xpath(\"//meta[@property='og:image']\").get_attribute('content')\n",
    "        urllib.request.urlretrieve(download_url, '{}.jpg'.format(shortcode))\n",
    "    time.sleep(5)\n",
    "\n",
    "print(\"Done\")\n",
    "driver.close()"
   ]
  }
 ],
 "metadata": {
  "kernelspec": {
   "display_name": "Python 3",
   "language": "python",
   "name": "python3"
  },
  "language_info": {
   "codemirror_mode": {
    "name": "ipython",
    "version": 3
   },
   "file_extension": ".py",
   "mimetype": "text/x-python",
   "name": "python",
   "nbconvert_exporter": "python",
   "pygments_lexer": "ipython3",
   "version": "3.7.3"
  }
 },
 "nbformat": 4,
 "nbformat_minor": 2
}
